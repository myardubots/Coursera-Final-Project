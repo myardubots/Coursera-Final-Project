{
    "cells": [
        {
            "metadata": {
                "collapsed": true
            },
            "cell_type": "markdown",
            "source": "## ----Finding Location for Indian Restaurant in Toronto----"
        },
        {
            "metadata": {},
            "cell_type": "markdown",
            "source": "### Business Problem: A client wants to open an Indian restaurant in Toronto,Canada your job is to find a suitable location for it ."
        },
        {
            "metadata": {},
            "cell_type": "markdown",
            "source": "### Target Audience : Any businessman who want to start an indian retaurant in toronto"
        },
        {
            "metadata": {},
            "cell_type": "markdown",
            "source": "### Data: \n#### 1) List of neighborhoods in canada from wikipedia\n#### 2) Longitude and latitude of these neighborhoods\n#### 3) Foursquare API for venues "
        },
        {
            "metadata": {},
            "cell_type": "code",
            "source": "",
            "execution_count": null,
            "outputs": []
        }
    ],
    "metadata": {
        "kernelspec": {
            "name": "python3",
            "display_name": "Python 3.6",
            "language": "python"
        },
        "language_info": {
            "name": "python",
            "version": "3.6.9",
            "mimetype": "text/x-python",
            "codemirror_mode": {
                "name": "ipython",
                "version": 3
            },
            "pygments_lexer": "ipython3",
            "nbconvert_exporter": "python",
            "file_extension": ".py"
        }
    },
    "nbformat": 4,
    "nbformat_minor": 1
}